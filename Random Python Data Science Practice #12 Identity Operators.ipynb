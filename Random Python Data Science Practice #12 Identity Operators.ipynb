{
 "cells": [
  {
   "cell_type": "markdown",
   "metadata": {},
   "source": [
    "## Random Python Data Science Practice #12"
   ]
  },
  {
   "cell_type": "markdown",
   "metadata": {},
   "source": [
    "## Identity Operators"
   ]
  },
  {
   "cell_type": "code",
   "execution_count": 1,
   "metadata": {},
   "outputs": [],
   "source": [
    "# Several Identity Operators\n",
    "a = 9 # --> integer\n",
    "b = 3 # --> integer \n",
    "c = a"
   ]
  },
  {
   "cell_type": "markdown",
   "metadata": {},
   "source": [
    "## is"
   ]
  },
  {
   "cell_type": "code",
   "execution_count": 3,
   "metadata": {},
   "outputs": [
    {
     "name": "stdout",
     "output_type": "stream",
     "text": [
      "Are a and c is same? True\n",
      "Are a and b is same? False\n"
     ]
    }
   ],
   "source": [
    "# \"is\" identity operator will return True if the both statement are the same objects\n",
    "print('Are a and c is same?', a is c) # --> Result will true because a and c are the same objects (c = a).\n",
    "print('Are a and b is same?', a is b) # --> Result will false because a and b are not the same objects (a != b)."
   ]
  },
  {
   "cell_type": "markdown",
   "metadata": {},
   "source": [
    "## is not"
   ]
  },
  {
   "cell_type": "code",
   "execution_count": 5,
   "metadata": {},
   "outputs": [
    {
     "name": "stdout",
     "output_type": "stream",
     "text": [
      "Are a and c is not same? False\n",
      "Are a and b is not same? True\n"
     ]
    }
   ],
   "source": [
    "# \"is not\" identity operator will return True if the both statement are not the same objects\n",
    "print('Are a and c is not same?', a is not c) # --> Result will false because a and c are the same objects (c = a).\n",
    "print('Are a and b is not same?', a is not b) # --> Result will true because a and b are not the same objects (a != b)."
   ]
  }
 ],
 "metadata": {
  "kernelspec": {
   "display_name": "Python 3",
   "language": "python",
   "name": "python3"
  },
  "language_info": {
   "codemirror_mode": {
    "name": "ipython",
    "version": 3
   },
   "file_extension": ".py",
   "mimetype": "text/x-python",
   "name": "python",
   "nbconvert_exporter": "python",
   "pygments_lexer": "ipython3",
   "version": "3.8.5"
  }
 },
 "nbformat": 4,
 "nbformat_minor": 4
}
